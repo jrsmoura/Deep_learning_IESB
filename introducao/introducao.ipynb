{
 "cells": [
  {
   "cell_type": "markdown",
   "source": [
    "# Sobre o Curso\n",
    "\n",
    "# Ementa\n",
    "- Introdução às redes neurais\n",
    "    - Estrutura básica de um perceptron\n",
    "    - Funções de ativação\n",
    "    - Funções loss\n",
    "- Redes neurais profundas\n",
    "    - Problema de classificação\n",
    "    - Problema de regressão\n",
    "- Tensorflow 2.x API\n",
    "    - Tensorflow como Numpy\n",
    "    - Keras API\n",
    "    - Modelos Sequenciais\n",
    "- Redes Neurais Convolucionais\n",
    "- Redes Neurais Recorrentes\n",
    "    - LSTM\n",
    "    - GRU\n",
    "- Modelos Generativos\n",
    "    - GANS\n",
    "\n"
   ],
   "metadata": {
    "collapsed": false,
    "pycharm": {
     "name": "#%% md\n"
    }
   }
  },
  {
   "cell_type": "markdown",
   "source": [
    "# Introdução às Redes Neurais\n",
    "\n",
    "## Um pouco de História\n",
    "\n",
    "- Foram introduzidas em 1943 por Warren McCulloch e Walter Pitts, na forma de um modelos computacional simplificado de como neurônios deveriam se comportar"
   ],
   "metadata": {
    "collapsed": false,
    "pycharm": {
     "name": "#%% md\n"
    }
   }
  },
  {
   "cell_type": "code",
   "execution_count": null,
   "outputs": [],
   "source": [],
   "metadata": {
    "collapsed": false,
    "pycharm": {
     "name": "#%%\n"
    }
   }
  }
 ],
 "metadata": {
  "kernelspec": {
   "display_name": "Python 3",
   "language": "python",
   "name": "python3"
  },
  "language_info": {
   "codemirror_mode": {
    "name": "ipython",
    "version": 2
   },
   "file_extension": ".py",
   "mimetype": "text/x-python",
   "name": "python",
   "nbconvert_exporter": "python",
   "pygments_lexer": "ipython2",
   "version": "2.7.6"
  }
 },
 "nbformat": 4,
 "nbformat_minor": 0
}