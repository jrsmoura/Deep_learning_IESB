{
  "nbformat": 4,
  "nbformat_minor": 0,
  "metadata": {
    "colab": {
      "provenance": [],
      "collapsed_sections": []
    },
    "kernelspec": {
      "name": "python3",
      "display_name": "Python 3"
    },
    "accelerator": "GPU"
  },
  "cells": [
    {
      "cell_type": "markdown",
      "metadata": {
        "id": "MECu2heL3k1B"
      },
      "source": [
        "# CNN\n",
        "\n",
        "---\n",
        "\n",
        "\n",
        "\n",
        "## Parte 01\n",
        "  - Loss Functions\n",
        "    - Mean Squared Error\n",
        "    - Binary Cross Entropy\n",
        "    - Categorical Cross Entropy\n",
        "\n",
        "## Parte 02\n",
        "  - Convolution Neural Networks\n",
        "\n",
        "\n",
        "  ----\n",
        "\n",
        "  # Mean Squared Error (MSE)\n",
        "  **Obs**.: Erro = Custo = Loss = Objetivo\n",
        "\n",
        "  - Objetivos:\n",
        "      - Entender o MSE de um ponto de vista estatístico\n",
        "      - É um primeiro passo para entender a cross-entropy-loss\n",
        "\n",
        "  $$\n",
        "    MSE = \\frac{1}{N}\\sum_{i=1}^{N}(y_{i} - \\hat{y}_{i})^{2}\n",
        "  $$\n",
        "\n",
        "![error](https://drive.google.com/uc?id=1p5yE4sdpjWRNVW53-2s7IOL4HiRYsjg9) \n",
        "\n",
        "Se olharmos apenas para a diferença entre o previsto e os valores de $y_i$ teremos\n",
        "\n",
        "$$\n",
        " \\varepsilon = a - a = 0\n",
        "$$\n",
        "\n",
        "o que não corresponde ao erro que realmente temos, por isso fazemos o quadrado da diferença, para garantirmos que teremos um erro positivo:\n",
        "\n",
        "$$\n",
        "  MSE = \\frac{1}{2}[(a)^{2} + (-a)^{2}] = \\frac{1}{2}(2a^2) = a^2\n",
        "$$\n",
        "\n",
        "Mesmo assim isso não justifica usarmos o termo ao quadrado, já que podemos apenas tomar o valor absoluto, como fazemos para a regressão linear:\n",
        "\n",
        "$$\n",
        "  MAE = \\frac{1}{N}\\sum_{i=1}^{N} | y_{i} - \\hat{y}_{i} |\n",
        "$$\n",
        "\n",
        "Para justificar o porque de usarmos o termo ao quadrado, vamos lembrar do *Maximum Likelihood Estimation* (MLE). Sabemos que para uma distribuição Gaussinana, temos a f.d.p.:\n",
        "\n",
        "$$\n",
        "  p(x) = \\frac{1}{\\sqrt{2\\pi\\sigma^2}}\\exp{\\left[-\\frac{1}{2}\\frac{(x-\\mu)^2}{\\sigma^2}\\right]}\n",
        "$$\n",
        "\n",
        "Sabemos também, que dada uma amostra $\\{x_1\\ldots x_N\\}$, a melhor maneira de calcularmos o seu valor médio é\n",
        "\n",
        "$$\n",
        "  \\hat{\\mu} = \\frac{1}{N}\\sum_{i=1}^{N}x_i\n",
        "$$\n",
        "\n",
        "O MLE é dado por\n",
        "\n",
        "$$\n",
        "  L = \\prod_{i=1}^{N}p(x_i) = \\prod_{i=1}^{N}\\frac{1}{\\sqrt{2\\pi\\sigma^2}}\\exp{\\left[-\\frac{1}{2}\\frac{(x_i -\\mu)^2}{\\sigma^2}\\right]}\n",
        "$$\n",
        "\n",
        "Note que aqui os $x_i$ são constantes, já que são os dados coletados, enquanto que a nossa variável é o $\\mu$.\n",
        "\n",
        "Próximo passo: maximizar $L$ em relação a $\\mu$:\n",
        "\n",
        "$$\n",
        "  \\frac{dL}{d\\mu} = 0\n",
        "$$\n",
        "\n",
        "Ao invés de trabalharmos com a função Loss na forma acima, é mais fácil trabalhar com o seu logarítmo:\n",
        "\n",
        "$$\n",
        "  l = \\log(L) = \\sum_{i=1}^{N}\\left\\{ \\log \\frac{1}{\\sqrt{2\\pi\\sigma^2}} - \\frac{1}{2\\sigma^2} \\left( x_i - \\mu \\right)^2  \\right\\}\n",
        "$$\n",
        "\n",
        "Desta maneira, o que queremos calcular é\n",
        "\n",
        "$$\n",
        "  \\frac{d l}{d\\mu} = \\sum_{i=1}^{N}\\frac{1}{\\sigma^2}(x_i - \\mu) = 0\n",
        "$$\n",
        "\n",
        "o que nos dá\n",
        "\n",
        "$$\n",
        "  \\mu = \\frac{1}{N}\\sum_{i=1}^{N}x_i\n",
        "$$\n",
        "\n",
        "Como $ \\log \\frac{1}{\\sqrt{2\\pi\\sigma^2}} \\in R $  e $\\frac{1}{\\sigma^2} > 0 $, podemos atribuir qualquer valor a eles, desde que respeitem estas limitações. Desta maneira, podemos escrever\n",
        "\n",
        "$$\n",
        "  l = -\\frac{1}{N}\\sum_{i=1}^{N}(x_i - \\mu)^2\n",
        "$$\n",
        "\n",
        "Precisamos ainda ter em mente que maximizar uma função, é o mesmo que minimizar a sua negativa:\n",
        "\n",
        "$$\n",
        "  \\max_x \\{f(x)\\} = \\min_x \\{-f(x)\\}\n",
        "$$\n",
        "\n",
        "Desta maneira\n",
        "  - Para medição dos dados\n",
        "  $$\n",
        "    MSE = \\frac{1}{N}\\sum_{i=1}^{N}(x_i - \\mu)^2\n",
        "  $$\n",
        "  - Para a regressão\n",
        "  $$\n",
        "    MSE = \\frac{1}{N}\\sum_{i=1}^{N}(y_i - \\hat{y}_i)^2\n",
        "  $$\n",
        "-----\n",
        "# Binary Cross-Entropy\n",
        "\n",
        "  - Loss function correta para classificações binárias\n",
        "\n",
        "  $$\n",
        "    Loss = -\\frac{1}{N}\\sum_{i=1}^{N}\\left\\{  y_i\\log\\hat{y}_i + (1 - y_i)\\log(1 - \\hat{y}_i) \\right\\}\n",
        "  $$\n",
        "\n",
        "\n"
      ]
    },
    {
      "cell_type": "code",
      "metadata": {
        "id": "yTkCX6AHNekD"
      },
      "source": [
        "# Import PyDrive and associated libraries.\n",
        "# This only needs to be done once per notebook.\n",
        "from pydrive.auth import GoogleAuth\n",
        "from pydrive.drive import GoogleDrive\n",
        "from google.colab import auth\n",
        "from oauth2client.client import GoogleCredentials\n",
        "\n",
        "# Authenticate and create the PyDrive client.\n",
        "# This only needs to be done once per notebook.\n",
        "auth.authenticate_user()\n",
        "gauth = GoogleAuth()\n",
        "gauth.credentials = GoogleCredentials.get_application_default()\n",
        "drive = GoogleDrive(gauth)\n",
        "\n",
        "# Download a file based on its file ID.\n",
        "#\n",
        "# A file ID looks like: laggVyWshwcyP6kEI-y_W3P8D26sz\n",
        "file_id = 'REPLACE_WITH_YOUR_FILE_ID'\n",
        "downloaded = drive.CreateFile({'id': file_id})\n",
        "print('Downloaded content \"{}\"'.format(downloaded.GetContentString()))"
      ],
      "execution_count": null,
      "outputs": []
    },
    {
      "cell_type": "code",
      "metadata": {
        "id": "Tattt6O1Nmk7"
      },
      "source": [
        "# load an example dataset\n",
        "from vega_datasets import data\n",
        "cars = data.cars()\n",
        "\n",
        "import altair as alt\n",
        "\n",
        "interval = alt.selection_interval()\n",
        "\n",
        "alt.Chart(cars).mark_point().encode(\n",
        "  alt.X('Horsepower', scale=alt.Scale(type='log')),\n",
        "  alt.Y('Miles_per_Gallon'),\n",
        "  color=alt.condition(interval, 'Origin', alt.value('lightgray'))\n",
        ").properties(\n",
        "  selection=interval\n",
        ").interactive()"
      ],
      "execution_count": null,
      "outputs": []
    },
    {
      "cell_type": "code",
      "metadata": {
        "id": "s7S6exGx1xhU"
      },
      "source": [],
      "execution_count": null,
      "outputs": []
    },
    {
      "cell_type": "markdown",
      "metadata": {
        "id": "PpW1z0Am3jEV"
      },
      "source": [
        "# Convolution Neural Network\n",
        "\n",
        "![cnn](https://personal.ie.cuhk.edu.hk/~ccloy/project_target_code/images/fig3.png)\n",
        "\n",
        "Algumas etapas são necessárias antes da rede neural que irá fazer a classificação. Toda esta etapa é chamada de *feature extraction* e é constituída por duas funções alternadas: **convolution** e **pooling**.\n",
        "\n",
        "## Convolution\n",
        "\n",
        "Pré-requisitos básicos para se realizar uma convolução:\n",
        "  - Podemos multiplicar\n",
        "  - Podemos somar\n",
        "\n",
        "Por exemplo, abaixo temos o efeito de blurring\n",
        "\n",
        "![ex0](https://pcper.com/wp-content/uploads/2016/11/2f61-math-2016-lena-convolution-tom-roelandts.png)\n",
        "\n",
        "Numericamente, o que ocorre é a seqüência de multiplicação de matrizes abaixo (exemplo de emboss):\n",
        "\n",
        "![ex](https://docs-assets.developer.apple.com/published/09348c5368/a55b1477-4f79-4221-8aa1-ab3ae9f01f89.png)\n",
        "\n",
        "Para diferente efeitos, temos diferentes convoluções:\n",
        "\n",
        "![ss](https://www.kdnuggets.com/wp-content/uploads/convnets-fig1.jpg)\n",
        "\n",
        "## Pooling\n",
        "\n",
        "De forma geral, pooling é uma forma de redução da amostra, no nosso caso, transformar uma imágem, em uma menor. Por exemplo, se a imágem de entrada é $100\\times 100$, um pool de tamanho $2$ gera uma imagem $50\\times 50$.\n",
        "\n",
        "Temos dois tipos de pooling: **MaxPooling** e **AveragePooling** e a escolha entre eles é uma questão de hiperparâmetros, sendo o **MaxPooling** o mais comum:\n",
        "\n",
        "![max](https://computersciencewiki.org/images/8/8a/MaxpoolSample2.png)\n",
        "\n",
        "Uma vantagem de realizar o pooling, é a diminuição da imagem, resultando em uma menor necessidade de dados no processo.\n",
        "\n",
        "\n",
        "-----\n",
        "\n",
        "# Exemplo: fashion MNIST\n",
        "\n",
        "Imagens $28\\times 28$ de itens de vestimentas, em escala de cinza.\n",
        "\n",
        "![mnist](https://miro.medium.com/max/3200/1*QQVbuP2SEasB0XAmvjW0AA.jpeg)\n",
        "\n"
      ]
    },
    {
      "cell_type": "code",
      "metadata": {
        "id": "QuTCc9q20907",
        "colab": {
          "base_uri": "https://localhost:8080/"
        },
        "outputId": "39a3f2fc-55d2-445a-dfc8-9833c19cb7f3"
      },
      "source": [
        "import numpy as np\n",
        "import matplotlib.pyplot as plt\n",
        "import tensorflow as tf\n",
        "from tensorflow.keras.layers import Input, Dense, Conv2D, Flatten, Dropout\n",
        "from tensorflow.keras.models import Model\n",
        "\n",
        "print(tf.__version__)"
      ],
      "execution_count": 5,
      "outputs": [
        {
          "output_type": "stream",
          "name": "stdout",
          "text": [
            "2.9.2\n"
          ]
        }
      ]
    },
    {
      "cell_type": "code",
      "metadata": {
        "id": "LdrBqkGFW5gm",
        "colab": {
          "base_uri": "https://localhost:8080/"
        },
        "outputId": "1c0fd4cc-cde0-4dbd-c62a-d020ae227071"
      },
      "source": [
        "fashion = tf.keras.datasets.fashion_mnist\n",
        "\n",
        "(x_train, y_train), (x_test, y_test) = fashion.load_data()\n",
        "\n",
        "x_train, x_test = x_train/255., x_test/255.\n",
        "\n",
        "print(f'x_train.shape: {x_train.shape}')"
      ],
      "execution_count": 6,
      "outputs": [
        {
          "output_type": "stream",
          "name": "stdout",
          "text": [
            "Downloading data from https://storage.googleapis.com/tensorflow/tf-keras-datasets/train-labels-idx1-ubyte.gz\n",
            "29515/29515 [==============================] - 0s 0us/step\n",
            "Downloading data from https://storage.googleapis.com/tensorflow/tf-keras-datasets/train-images-idx3-ubyte.gz\n",
            "26421880/26421880 [==============================] - 0s 0us/step\n",
            "Downloading data from https://storage.googleapis.com/tensorflow/tf-keras-datasets/t10k-labels-idx1-ubyte.gz\n",
            "5148/5148 [==============================] - 0s 0us/step\n",
            "Downloading data from https://storage.googleapis.com/tensorflow/tf-keras-datasets/t10k-images-idx3-ubyte.gz\n",
            "4422102/4422102 [==============================] - 0s 0us/step\n",
            "x_train.shape: (60000, 28, 28)\n"
          ]
        }
      ]
    },
    {
      "cell_type": "code",
      "metadata": {
        "id": "o9queRtHXnFa",
        "colab": {
          "base_uri": "https://localhost:8080/"
        },
        "outputId": "7e09b441-505e-4173-e14b-4a6d19d87115"
      },
      "source": [
        "# Problema: os dados são 2D, mas a convolução espera altura x largura x cor\n",
        "# Para isso, fazemos um reshape\n",
        "x_train = np.expand_dims(x_train, -1)\n",
        "x_test = np.expand_dims(x_test, -1)\n",
        "print(f'x_train.shape: {x_train.shape}')"
      ],
      "execution_count": 7,
      "outputs": [
        {
          "output_type": "stream",
          "name": "stdout",
          "text": [
            "x_train.shape: (60000, 28, 28, 1)\n"
          ]
        }
      ]
    },
    {
      "cell_type": "code",
      "metadata": {
        "id": "yZ8B9wbdYJhZ",
        "colab": {
          "base_uri": "https://localhost:8080/"
        },
        "outputId": "f2472068-f92f-404a-971c-c75f241c4df7"
      },
      "source": [
        "# No MNIST da aula passada, sabiamos que eram 10 classes, mas aqui não sabemos ainda.\n",
        "# Para isso, podemos fazer\n",
        "K = len(set(y_train))\n",
        "print(f'# de classes: {K}\\n{set(y_train)}')"
      ],
      "execution_count": 8,
      "outputs": [
        {
          "output_type": "stream",
          "name": "stdout",
          "text": [
            "# de classes: 10\n",
            "{0, 1, 2, 3, 4, 5, 6, 7, 8, 9}\n"
          ]
        }
      ]
    },
    {
      "cell_type": "code",
      "metadata": {
        "id": "AE6NUpHTTbXg"
      },
      "source": [],
      "execution_count": null,
      "outputs": []
    },
    {
      "cell_type": "code",
      "metadata": {
        "id": "8tm7qPS0Ybr9"
      },
      "source": [
        "# Agora seguimos os mesmos passos de antes: Contrução -> Compilação -> fit -> Avaliação\n",
        "model = tf.keras.models.Sequential([\n",
        "  Input(shape=x_train[0].shape),\n",
        "  # início da rede de convolução\n",
        "  Conv2D(16, (3, 3), strides = 2, activation='relu'),\n",
        "  Conv2D(32, (3, 3), strides = 2, activation='relu'),\n",
        "  Conv2D(64, (3, 3), strides = 2, activation='relu'),\n",
        "  # parte da rede para classificação\n",
        "  Flatten(),\n",
        "  Dropout(0.2),\n",
        "  Dense(256, activation='relu'),\n",
        "  Dropout(0.2),\n",
        "  Dense(K, activation='softmax')\n",
        "])"
      ],
      "execution_count": 9,
      "outputs": []
    },
    {
      "cell_type": "code",
      "source": [
        "model.summary()"
      ],
      "metadata": {
        "colab": {
          "base_uri": "https://localhost:8080/"
        },
        "id": "SJB0vBP0QNpM",
        "outputId": "d5d18e3a-2369-42b8-a67a-4c01b30c0174"
      },
      "execution_count": 10,
      "outputs": [
        {
          "output_type": "stream",
          "name": "stdout",
          "text": [
            "Model: \"sequential\"\n",
            "_________________________________________________________________\n",
            " Layer (type)                Output Shape              Param #   \n",
            "=================================================================\n",
            " conv2d (Conv2D)             (None, 13, 13, 16)        160       \n",
            "                                                                 \n",
            " conv2d_1 (Conv2D)           (None, 6, 6, 32)          4640      \n",
            "                                                                 \n",
            " conv2d_2 (Conv2D)           (None, 2, 2, 64)          18496     \n",
            "                                                                 \n",
            " flatten (Flatten)           (None, 256)               0         \n",
            "                                                                 \n",
            " dropout (Dropout)           (None, 256)               0         \n",
            "                                                                 \n",
            " dense (Dense)               (None, 256)               65792     \n",
            "                                                                 \n",
            " dropout_1 (Dropout)         (None, 256)               0         \n",
            "                                                                 \n",
            " dense_1 (Dense)             (None, 10)                2570      \n",
            "                                                                 \n",
            "=================================================================\n",
            "Total params: 91,658\n",
            "Trainable params: 91,658\n",
            "Non-trainable params: 0\n",
            "_________________________________________________________________\n"
          ]
        }
      ]
    },
    {
      "cell_type": "code",
      "metadata": {
        "id": "bQvLsr9oZU1O",
        "colab": {
          "base_uri": "https://localhost:8080/"
        },
        "outputId": "1192e14b-47be-43f0-ca5d-2fb32c85601e"
      },
      "source": [
        "learning_rate = 0.001\n",
        "optimizer = tf.keras.optimizers.Adam(learning_rate=learning_rate)\n",
        "model.compile(optimizer=optimizer,\n",
        "              loss='sparse_categorical_crossentropy',\n",
        "              metrics=['accuracy'])\n",
        "r = model.fit(x_train, y_train, validation_data=(x_test, y_test), epochs=20)"
      ],
      "execution_count": null,
      "outputs": [
        {
          "output_type": "stream",
          "name": "stdout",
          "text": [
            "Epoch 1/20\n",
            "1875/1875 [==============================] - 7s 4ms/step - loss: 0.5430 - accuracy: 0.7954 - val_loss: 0.5280 - val_accuracy: 0.7983\n",
            "Epoch 2/20\n",
            "1875/1875 [==============================] - 8s 4ms/step - loss: 0.5244 - accuracy: 0.8020 - val_loss: 0.5193 - val_accuracy: 0.7999\n",
            "Epoch 3/20\n",
            "1875/1875 [==============================] - 8s 4ms/step - loss: 0.5155 - accuracy: 0.8031 - val_loss: 0.5260 - val_accuracy: 0.7973\n",
            "Epoch 4/20\n",
            "1875/1875 [==============================] - 7s 4ms/step - loss: 0.5133 - accuracy: 0.8041 - val_loss: 0.5143 - val_accuracy: 0.8014\n",
            "Epoch 5/20\n",
            "1875/1875 [==============================] - 8s 4ms/step - loss: 0.5091 - accuracy: 0.8043 - val_loss: 0.5182 - val_accuracy: 0.8023\n",
            "Epoch 6/20\n",
            "1643/1875 [=========================>....] - ETA: 0s - loss: 0.5107 - accuracy: 0.8059"
          ]
        }
      ]
    },
    {
      "cell_type": "code",
      "metadata": {
        "id": "iBIEnNogb1mg",
        "colab": {
          "base_uri": "https://localhost:8080/",
          "height": 265
        },
        "outputId": "43fbab27-f40c-4f6e-f69f-7d5520398054"
      },
      "source": [
        "plt.plot(r.history['loss'], label='treino')\n",
        "plt.plot(r.history['val_loss'], label='validacao')\n",
        "plt.legend()\n",
        "plt.show()"
      ],
      "execution_count": 12,
      "outputs": [
        {
          "output_type": "display_data",
          "data": {
            "text/plain": [
              "<Figure size 432x288 with 1 Axes>"
            ],
            "image/png": "[encoded data removed]"
          },
          "metadata": {
            "needs_background": "light"
          }
        }
      ]
    },
    {
      "cell_type": "code",
      "metadata": {
        "id": "c-KCAtXEcAwv",
        "colab": {
          "base_uri": "https://localhost:8080/",
          "height": 265
        },
        "outputId": "b729bd4b-7670-47ea-ee6a-07f05e8ce2f2"
      },
      "source": [
        "plt.plot(r.history['loss'], label='treino')\n",
        "plt.plot(r.history['val_loss'], label='validacao')\n",
        "plt.legend()\n",
        "plt.show()"
      ],
      "execution_count": 13,
      "outputs": [
        {
          "output_type": "display_data",
          "data": {
            "text/plain": [
              "<Figure size 432x288 with 1 Axes>"
            ],
            "image/png": "[encoded data removed]"
          },
          "metadata": {
            "needs_background": "light"
          }
        }
      ]
    },
    {
      "cell_type": "code",
      "metadata": {
        "id": "f802ubQIcBQf",
        "colab": {
          "base_uri": "https://localhost:8080/",
          "height": 265
        },
        "outputId": "942b1ec0-249c-4b8b-b11e-c92f921f27e2"
      },
      "source": [
        "plt.plot(r.history['accuracy'], label='treino')\n",
        "plt.plot(r.history['val_accuracy'], label='validacao')\n",
        "plt.legend()\n",
        "plt.show()"
      ],
      "execution_count": 14,
      "outputs": [
        {
          "output_type": "display_data",
          "data": {
            "text/plain": [
              "<Figure size 432x288 with 1 Axes>"
            ],
            "image/png": "[encoded data removed]"
          },
          "metadata": {
            "needs_background": "light"
          }
        }
      ]
    },
    {
      "cell_type": "code",
      "metadata": {
        "id": "qEdI3qtEcKJG"
      },
      "source": [
        "from sklearn.metrics import confusion_matrix\n",
        "import itertools\n",
        "\n",
        "def _plot_confusion_matrix(cm, classes,\n",
        "                           normalize=False,\n",
        "                           title='Confusion Matrix',\n",
        "                           cmap=plt.cm.Blues):\n",
        "  if normalize:\n",
        "    cm = cm.astype('float') / cm.sum(axis=1)[:, np.newaxis]\n",
        "  else:\n",
        "    print('sem normalização')\n",
        "\n",
        "  print(cm)\n",
        "\n",
        "  plt.imshow(cm, interpolation='nearest', cmap=cmap)\n",
        "  plt.title(title)\n",
        "  plt.colorbar()\n",
        "  tick_marks = np.arange(len(classes))\n",
        "  plt.xticks(tick_marks, classes, rotation=45)\n",
        "  plt.yticks(tick_marks, classes)\n",
        "\n",
        "  fmt = '.2f' if normalize else 'd'\n",
        "  thresh = cm.max() / 2.\n",
        "  for i, j in itertools.product(range(cm.shape[0]), range(cm.shape[1])):\n",
        "    plt.text(j, i, format(cm[i, j], fmt),\n",
        "             horizontalalignment='center',\n",
        "             color='white' if cm[i, j] > thresh else 'black')\n",
        "  plt.tight_layout()\n",
        "  plt.ylabel('Real')\n",
        "  plt.xlabel('Previsto')\n",
        "  plt.show()"
      ],
      "execution_count": null,
      "outputs": []
    },
    {
      "cell_type": "code",
      "metadata": {
        "id": "Nl2yC_uPc1-4"
      },
      "source": [
        "p_test = model.predict(x_test).argmax(axis=1)\n",
        "cm = confusion_matrix(y_test, p_test)\n",
        "_plot_confusion_matrix(cm, list(range(10)))"
      ],
      "execution_count": null,
      "outputs": []
    },
    {
      "cell_type": "code",
      "metadata": {
        "id": "tkWksmNZc9Em"
      },
      "source": [],
      "execution_count": null,
      "outputs": []
    },
    {
      "cell_type": "code",
      "metadata": {
        "id": "rUpYipSbdfV9"
      },
      "source": [
        "# vamos dar uma olhada nos casos que não estão sendo classificados corretamente\n",
        "_classerr_idx = np.where(p_test == y_test)[0]\n",
        "i = np.random.choice(_classerr_idx)\n",
        "plt.imshow(x_test[i].reshape(28, 28), cmap='gray')\n",
        "plt.title(f'Real: {y_test[i]}  Previsto: {p_test[i]}')\n",
        "plt.show()"
      ],
      "execution_count": null,
      "outputs": []
    },
    {
      "cell_type": "code",
      "metadata": {
        "id": "8_mpIATzemqM"
      },
      "source": [],
      "execution_count": null,
      "outputs": []
    },
    {
      "cell_type": "code",
      "metadata": {
        "id": "U2w1fLlYYnr-"
      },
      "source": [],
      "execution_count": null,
      "outputs": []
    }
  ]
}